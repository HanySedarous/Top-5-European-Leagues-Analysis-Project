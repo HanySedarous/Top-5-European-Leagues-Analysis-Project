{
 "cells": [
  {
   "cell_type": "code",
   "execution_count": 1,
   "metadata": {},
   "outputs": [],
   "source": [
    "# Dependencies\n",
    "import csv\n",
    "import matplotlib.pyplot as plt\n",
    "import pandas as pd\n",
    "import os, glob\n",
    "import numpy as np"
   ]
  },
  {
   "cell_type": "markdown",
   "metadata": {},
   "source": [
    "Merge all files into one CVS file"
   ]
  },
  {
   "cell_type": "code",
   "execution_count": 180,
   "metadata": {},
   "outputs": [],
   "source": [
    "os.chdir(\".\")\n",
    "all_filenames = [i for i in glob.glob('*.{}'.format('csv'))]\n",
    "combinedf = pd.concat([pd.read_csv(f) for f in all_filenames ],sort=False)\n",
    "combinedf.to_csv( \"Teams.csv\", index=False, encoding='utf-8')"
   ]
  },
  {
   "cell_type": "code",
   "execution_count": 12,
   "metadata": {},
   "outputs": [],
   "source": [
    "teams = pd.read_csv('Teams.csv')"
   ]
  },
  {
   "cell_type": "code",
   "execution_count": 27,
   "metadata": {},
   "outputs": [],
   "source": [
    "Best = teams.copy()\n",
    "champs = teams.copy()\n",
    "Winners = teams.copy()\n",
    "aggressive = teams.copy()\n",
    "squad_at = teams.copy()"
   ]
  },
  {
   "cell_type": "markdown",
   "metadata": {},
   "source": [
    "Best League In Europe Based on Number Of Played ganes and scored goals"
   ]
  },
  {
   "cell_type": "code",
   "execution_count": 28,
   "metadata": {},
   "outputs": [
    {
     "data": {
      "text/html": [
       "<div>\n",
       "<style scoped>\n",
       "    .dataframe tbody tr th:only-of-type {\n",
       "        vertical-align: middle;\n",
       "    }\n",
       "\n",
       "    .dataframe tbody tr th {\n",
       "        vertical-align: top;\n",
       "    }\n",
       "\n",
       "    .dataframe thead th {\n",
       "        text-align: right;\n",
       "    }\n",
       "</style>\n",
       "<table border=\"1\" class=\"dataframe\">\n",
       "  <thead>\n",
       "    <tr style=\"text-align: right;\">\n",
       "      <th></th>\n",
       "      <th>MP</th>\n",
       "      <th>GF</th>\n",
       "      <th>GA</th>\n",
       "      <th>Pts</th>\n",
       "    </tr>\n",
       "    <tr>\n",
       "      <th>League</th>\n",
       "      <th></th>\n",
       "      <th></th>\n",
       "      <th></th>\n",
       "      <th></th>\n",
       "    </tr>\n",
       "  </thead>\n",
       "  <tbody>\n",
       "    <tr>\n",
       "      <th>Serie A</th>\n",
       "      <td>2280</td>\n",
       "      <td>3190</td>\n",
       "      <td>3190</td>\n",
       "      <td>3141</td>\n",
       "    </tr>\n",
       "    <tr>\n",
       "      <th>EPL</th>\n",
       "      <td>2280</td>\n",
       "      <td>3124</td>\n",
       "      <td>3124</td>\n",
       "      <td>3158</td>\n",
       "    </tr>\n",
       "    <tr>\n",
       "      <th>La Liga</th>\n",
       "      <td>2280</td>\n",
       "      <td>2949</td>\n",
       "      <td>2949</td>\n",
       "      <td>3119</td>\n",
       "    </tr>\n",
       "    <tr>\n",
       "      <th>Bundesliga</th>\n",
       "      <td>1836</td>\n",
       "      <td>2810</td>\n",
       "      <td>2810</td>\n",
       "      <td>2530</td>\n",
       "    </tr>\n",
       "    <tr>\n",
       "      <th>League 1</th>\n",
       "      <td>2078</td>\n",
       "      <td>2709</td>\n",
       "      <td>2709</td>\n",
       "      <td>2841</td>\n",
       "    </tr>\n",
       "  </tbody>\n",
       "</table>\n",
       "</div>"
      ],
      "text/plain": [
       "              MP    GF    GA   Pts\n",
       "League                            \n",
       "Serie A     2280  3190  3190  3141\n",
       "EPL         2280  3124  3124  3158\n",
       "La Liga     2280  2949  2949  3119\n",
       "Bundesliga  1836  2810  2810  2530\n",
       "League 1    2078  2709  2709  2841"
      ]
     },
     "execution_count": 28,
     "metadata": {},
     "output_type": "execute_result"
    }
   ],
   "source": [
    "Best = Best.groupby('League').sum()\n",
    "Best.sort_values(by=['GF'], inplace=True, ascending=False)\n",
    "Best.drop(['D', 'L', 'GDiff', 'Rk', 'W'], axis=1, inplace=True)\n",
    "Best.head()"
   ]
  },
  {
   "cell_type": "code",
   "execution_count": 29,
   "metadata": {},
   "outputs": [
    {
     "name": "stderr",
     "output_type": "stream",
     "text": [
      "C:\\Users\\hanys\\anaconda3\\envs\\PythonData\\lib\\site-packages\\pandas\\plotting\\_matplotlib\\core.py:1235: UserWarning: FixedFormatter should only be used together with FixedLocator\n",
      "  ax.set_xticklabels(xticklabels)\n"
     ]
    },
    {
     "data": {
      "text/plain": [
       "Text(0.5, 1.0, 'Best League in Europe (2017-2020)')"
      ]
     },
     "execution_count": 29,
     "metadata": {},
     "output_type": "execute_result"
    },
    {
     "data": {
      "image/png": "[encoded data removed]",
      "text/plain": [
       "<Figure size 432x288 with 1 Axes>"
      ]
     },
     "metadata": {
      "needs_background": "light"
     },
     "output_type": "display_data"
    }
   ],
   "source": [
    "Best.plot.line()\n",
    "plt.xlabel(\"Top European 5 Leagues\")\n",
    "plt.ylabel(\"Figures\")\n",
    "plt.title(\"Best League in Europe (2017-2020)\")"
   ]
  },
  {
   "cell_type": "code",
   "execution_count": 30,
   "metadata": {},
   "outputs": [
    {
     "ename": "NameError",
     "evalue": "name 'teams_stats' is not defined",
     "output_type": "error",
     "traceback": [
      "\u001b[1;31m---------------------------------------------------------------------------\u001b[0m",
      "\u001b[1;31mNameError\u001b[0m                                 Traceback (most recent call last)",
      "\u001b[1;32m<ipython-input-30-a28824773af7>\u001b[0m in \u001b[0;36m<module>\u001b[1;34m\u001b[0m\n\u001b[0;32m      1\u001b[0m \u001b[1;31m#new_data = teams_stats.groupby('League')\u001b[0m\u001b[1;33m\u001b[0m\u001b[1;33m\u001b[0m\u001b[1;33m\u001b[0m\u001b[0m\n\u001b[0;32m      2\u001b[0m \u001b[1;31m#new_data.head()\u001b[0m\u001b[1;33m\u001b[0m\u001b[1;33m\u001b[0m\u001b[1;33m\u001b[0m\u001b[0m\n\u001b[1;32m----> 3\u001b[1;33m \u001b[0mnew_data\u001b[0m \u001b[1;33m=\u001b[0m \u001b[0mteams_stats\u001b[0m\u001b[1;33m.\u001b[0m\u001b[0mgroupby\u001b[0m\u001b[1;33m(\u001b[0m\u001b[1;34m'League'\u001b[0m\u001b[1;33m)\u001b[0m\u001b[1;33m.\u001b[0m\u001b[0msum\u001b[0m\u001b[1;33m(\u001b[0m\u001b[1;33m)\u001b[0m\u001b[1;33m\u001b[0m\u001b[1;33m\u001b[0m\u001b[0m\n\u001b[0m\u001b[0;32m      4\u001b[0m \u001b[0mnew_data\u001b[0m\u001b[1;33m.\u001b[0m\u001b[0msort_values\u001b[0m\u001b[1;33m(\u001b[0m\u001b[0mby\u001b[0m\u001b[1;33m=\u001b[0m\u001b[1;33m[\u001b[0m\u001b[1;34m'GF'\u001b[0m\u001b[1;33m]\u001b[0m\u001b[1;33m,\u001b[0m \u001b[0minplace\u001b[0m\u001b[1;33m=\u001b[0m\u001b[1;32mTrue\u001b[0m\u001b[1;33m,\u001b[0m \u001b[0mascending\u001b[0m\u001b[1;33m=\u001b[0m\u001b[1;32mFalse\u001b[0m\u001b[1;33m)\u001b[0m\u001b[1;33m\u001b[0m\u001b[1;33m\u001b[0m\u001b[0m\n\u001b[0;32m      5\u001b[0m \u001b[0mnew_teams_data\u001b[0m \u001b[1;33m=\u001b[0m \u001b[0mnew_data\u001b[0m\u001b[1;33m.\u001b[0m\u001b[0mhead\u001b[0m\u001b[1;33m(\u001b[0m\u001b[1;36m5\u001b[0m\u001b[1;33m)\u001b[0m\u001b[1;33m\u001b[0m\u001b[1;33m\u001b[0m\u001b[0m\n",
      "\u001b[1;31mNameError\u001b[0m: name 'teams_stats' is not defined"
     ]
    }
   ],
   "source": [
    "#new_data = teams_stats.groupby('League')\n",
    "#new_data.head()\n",
    "new_data = teams_stats.groupby('League').sum()\n",
    "new_data.sort_values(by=['GF'], inplace=True, ascending=False)\n",
    "new_teams_data = new_data.head(5)\n",
    "new_teams_data.drop(['D', 'L', 'GDiff', 'Rk', 'W', 'GA', 'Pts'], axis=1, inplace=True)\n",
    "new_teams_data.head()"
   ]
  },
  {
   "cell_type": "markdown",
   "metadata": {},
   "source": [
    "Italian League is the best European league from 2017 till 2020 based on number of Played Games and number of Scored Goals"
   ]
  },
  {
   "cell_type": "code",
   "execution_count": null,
   "metadata": {
    "scrolled": true
   },
   "outputs": [],
   "source": [
    "new_teams_data.plot.bar()\n",
    "plt.xlabel(\"Leagues\", fontsize=25)\n",
    "plt.ylabel(\"Matches Played\", fontsize=25)\n",
    "plt.title(\"Best European League (2017 till 2020)\", fontsize=25)\n",
    "plt.rcParams['figure.figsize'] = (25,5);\n",
    "plt.show()"
   ]
  },
  {
   "cell_type": "markdown",
   "metadata": {},
   "source": [
    "Manchester City is the best European team from 2017 till 2020 based on number of Played Games, \n",
    "collected points and number of Scored Goals"
   ]
  },
  {
   "cell_type": "code",
   "execution_count": null,
   "metadata": {},
   "outputs": [],
   "source": [
    "Squad = teams_stats.groupby('Squad').sum()\n",
    "Squad.sort_values(by=['Pts'], inplace=True, ascending=False)\n",
    "best_team = Squad.head()\n",
    "best_team.drop(['D', 'L', 'GDiff', 'Rk', 'W'], axis=1, inplace=True)\n",
    "best_team.head()"
   ]
  },
  {
   "cell_type": "code",
   "execution_count": null,
   "metadata": {},
   "outputs": [],
   "source": [
    "best_team.plot.bar()\n",
    "plt.xlabel('Teams', fontsize=25)\n",
    "plt.ylabel(\"Facts\", fontsize=25)\n",
    "plt.title(\"Best European Team (2017 till 2020)\", fontsize=25)\n",
    "plt.rcParams['figure.figsize'] = (20,5);\n",
    "plt.show()"
   ]
  },
  {
   "cell_type": "markdown",
   "metadata": {},
   "source": [
    "League Champions"
   ]
  },
  {
   "cell_type": "code",
   "execution_count": 31,
   "metadata": {},
   "outputs": [
    {
     "ename": "NameError",
     "evalue": "name 'Champions' is not defined",
     "output_type": "error",
     "traceback": [
      "\u001b[1;31m---------------------------------------------------------------------------\u001b[0m",
      "\u001b[1;31mNameError\u001b[0m                                 Traceback (most recent call last)",
      "\u001b[1;32m<ipython-input-31-f414035b67e9>\u001b[0m in \u001b[0;36m<module>\u001b[1;34m\u001b[0m\n\u001b[1;32m----> 1\u001b[1;33m \u001b[0mChampions\u001b[0m\u001b[1;33m.\u001b[0m\u001b[0msort_values\u001b[0m\u001b[1;33m(\u001b[0m\u001b[0mby\u001b[0m\u001b[1;33m=\u001b[0m\u001b[1;33m[\u001b[0m\u001b[1;34m'Pts'\u001b[0m\u001b[1;33m]\u001b[0m\u001b[1;33m,\u001b[0m \u001b[0minplace\u001b[0m\u001b[1;33m=\u001b[0m\u001b[1;32mTrue\u001b[0m\u001b[1;33m,\u001b[0m \u001b[0mascending\u001b[0m\u001b[1;33m=\u001b[0m\u001b[1;32mFalse\u001b[0m\u001b[1;33m)\u001b[0m\u001b[1;33m\u001b[0m\u001b[1;33m\u001b[0m\u001b[0m\n\u001b[0m",
      "\u001b[1;31mNameError\u001b[0m: name 'Champions' is not defined"
     ]
    }
   ],
   "source": [
    "Champions.sort_values(by=['Pts'], inplace=True, ascending=False)"
   ]
  },
  {
   "cell_type": "code",
   "execution_count": 32,
   "metadata": {},
   "outputs": [],
   "source": [
    "Winners.head(25)\n",
    "condition = Winners[\"Winner\"] == 'Champion'\n",
    "\n",
    "League_Champions = Winners[condition]"
   ]
  },
  {
   "cell_type": "code",
   "execution_count": 33,
   "metadata": {},
   "outputs": [
    {
     "data": {
      "text/html": [
       "<div>\n",
       "<style scoped>\n",
       "    .dataframe tbody tr th:only-of-type {\n",
       "        vertical-align: middle;\n",
       "    }\n",
       "\n",
       "    .dataframe tbody tr th {\n",
       "        vertical-align: top;\n",
       "    }\n",
       "\n",
       "    .dataframe thead th {\n",
       "        text-align: right;\n",
       "    }\n",
       "</style>\n",
       "<table border=\"1\" class=\"dataframe\">\n",
       "  <thead>\n",
       "    <tr style=\"text-align: right;\">\n",
       "      <th></th>\n",
       "      <th></th>\n",
       "      <th></th>\n",
       "      <th>Pts</th>\n",
       "    </tr>\n",
       "    <tr>\n",
       "      <th>Season</th>\n",
       "      <th>League</th>\n",
       "      <th>Squad</th>\n",
       "      <th></th>\n",
       "    </tr>\n",
       "  </thead>\n",
       "  <tbody>\n",
       "    <tr>\n",
       "      <th rowspan=\"5\" valign=\"top\">2017-2018</th>\n",
       "      <th>Bundesliga</th>\n",
       "      <th>Bayern Munich</th>\n",
       "      <td>84</td>\n",
       "    </tr>\n",
       "    <tr>\n",
       "      <th>La Liga</th>\n",
       "      <th>Barcelona</th>\n",
       "      <td>93</td>\n",
       "    </tr>\n",
       "    <tr>\n",
       "      <th>League 1</th>\n",
       "      <th>Paris S-G</th>\n",
       "      <td>93</td>\n",
       "    </tr>\n",
       "    <tr>\n",
       "      <th>EPL</th>\n",
       "      <th>Manchester City</th>\n",
       "      <td>100</td>\n",
       "    </tr>\n",
       "    <tr>\n",
       "      <th>Serie A</th>\n",
       "      <th>Juventus</th>\n",
       "      <td>95</td>\n",
       "    </tr>\n",
       "    <tr>\n",
       "      <th rowspan=\"5\" valign=\"top\">2018-2019</th>\n",
       "      <th>Bundesliga</th>\n",
       "      <th>Bayern Munich</th>\n",
       "      <td>78</td>\n",
       "    </tr>\n",
       "    <tr>\n",
       "      <th>La Liga</th>\n",
       "      <th>Barcelona</th>\n",
       "      <td>87</td>\n",
       "    </tr>\n",
       "    <tr>\n",
       "      <th>League 1</th>\n",
       "      <th>Paris S-G</th>\n",
       "      <td>91</td>\n",
       "    </tr>\n",
       "    <tr>\n",
       "      <th>EPL</th>\n",
       "      <th>Manchester City</th>\n",
       "      <td>98</td>\n",
       "    </tr>\n",
       "    <tr>\n",
       "      <th>Serie A</th>\n",
       "      <th>Juventus</th>\n",
       "      <td>90</td>\n",
       "    </tr>\n",
       "    <tr>\n",
       "      <th rowspan=\"5\" valign=\"top\">2019-2020</th>\n",
       "      <th>Bundesliga</th>\n",
       "      <th>Bayern Munich</th>\n",
       "      <td>82</td>\n",
       "    </tr>\n",
       "    <tr>\n",
       "      <th>La Liga</th>\n",
       "      <th>Real Madrid</th>\n",
       "      <td>87</td>\n",
       "    </tr>\n",
       "    <tr>\n",
       "      <th>League 1</th>\n",
       "      <th>Paris S-G</th>\n",
       "      <td>68</td>\n",
       "    </tr>\n",
       "    <tr>\n",
       "      <th>EPL</th>\n",
       "      <th>Liverpool</th>\n",
       "      <td>99</td>\n",
       "    </tr>\n",
       "    <tr>\n",
       "      <th>Serie A</th>\n",
       "      <th>Juventus</th>\n",
       "      <td>83</td>\n",
       "    </tr>\n",
       "  </tbody>\n",
       "</table>\n",
       "</div>"
      ],
      "text/plain": [
       "                                      Pts\n",
       "Season    League     Squad               \n",
       "2017-2018 Bundesliga Bayern Munich     84\n",
       "          La Liga    Barcelona         93\n",
       "          League 1   Paris S-G         93\n",
       "          EPL        Manchester City  100\n",
       "          Serie A    Juventus          95\n",
       "2018-2019 Bundesliga Bayern Munich     78\n",
       "          La Liga    Barcelona         87\n",
       "          League 1   Paris S-G         91\n",
       "          EPL        Manchester City   98\n",
       "          Serie A    Juventus          90\n",
       "2019-2020 Bundesliga Bayern Munich     82\n",
       "          La Liga    Real Madrid       87\n",
       "          League 1   Paris S-G         68\n",
       "          EPL        Liverpool         99\n",
       "          Serie A    Juventus          83"
      ]
     },
     "execution_count": 33,
     "metadata": {},
     "output_type": "execute_result"
    }
   ],
   "source": [
    "League_Champions = League_Champions.set_index(['Season', 'League', 'Squad']).select_dtypes('number')\n",
    "League_Champions.drop(['Rk', 'MP', 'W', 'D', 'L', 'GF', 'GA', 'GDiff'], axis=1, inplace=True)\n",
    "League_Champions.head(15)"
   ]
  },
  {
   "cell_type": "code",
   "execution_count": 21,
   "metadata": {},
   "outputs": [
    {
     "name": "stderr",
     "output_type": "stream",
     "text": [
      "C:\\Users\\hanys\\anaconda3\\envs\\PythonData\\lib\\site-packages\\pandas\\plotting\\_matplotlib\\core.py:1235: UserWarning: FixedFormatter should only be used together with FixedLocator\n",
      "  ax.set_xticklabels(xticklabels)\n"
     ]
    },
    {
     "data": {
      "text/plain": [
       "Text(0.5, 1.0, 'European League Champions Points Achieved (2017-2020)')"
      ]
     },
     "execution_count": 21,
     "metadata": {},
     "output_type": "execute_result"
    },
    {
     "data": {
      "image/png": "[encoded data removed]",
      "text/plain": [
       "<Figure size 432x288 with 1 Axes>"
      ]
     },
     "metadata": {
      "needs_background": "light"
     },
     "output_type": "display_data"
    }
   ],
   "source": [
    "League_Champions.plot.line()\n",
    "plt.xlabel(\"Squad\")\n",
    "plt.ylabel(\"Pts\")\n",
    "plt.title(\"European League Champions Points Achieved (2017-2020)\")"
   ]
  },
  {
   "cell_type": "code",
   "execution_count": 22,
   "metadata": {},
   "outputs": [
    {
     "data": {
      "text/plain": [
       "Text(0.5, 1.0, 'European League Champions Points Achieved (2017-2020) Sorted')"
      ]
     },
     "execution_count": 22,
     "metadata": {},
     "output_type": "execute_result"
    },
    {
     "data": {
      "image/png": "[encoded data removed]",
      "text/plain": [
       "<Figure size 432x288 with 1 Axes>"
      ]
     },
     "metadata": {
      "needs_background": "light"
     },
     "output_type": "display_data"
    }
   ],
   "source": [
    "League_Champions.sort_values(by=['Pts'], inplace=True, ascending=False)\n",
    "League_Champions.plot.bar()\n",
    "plt.xlabel(\"Squad\")\n",
    "plt.ylabel(\"Pts\")\n",
    "plt.title(\"European League Champions Points Achieved (2017-2020) Sorted\")"
   ]
  },
  {
   "cell_type": "code",
   "execution_count": null,
   "metadata": {},
   "outputs": [],
   "source": []
  },
  {
   "cell_type": "code",
   "execution_count": null,
   "metadata": {},
   "outputs": [],
   "source": []
  },
  {
   "cell_type": "code",
   "execution_count": null,
   "metadata": {},
   "outputs": [],
   "source": []
  },
  {
   "cell_type": "code",
   "execution_count": null,
   "metadata": {},
   "outputs": [],
   "source": []
  },
  {
   "cell_type": "code",
   "execution_count": null,
   "metadata": {},
   "outputs": [],
   "source": []
  }
 ],
 "metadata": {
  "kernelspec": {
   "display_name": "Python 3",
   "language": "python",
   "name": "python3"
  },
  "language_info": {
   "codemirror_mode": {
    "name": "ipython",
    "version": 3
   },
   "file_extension": ".py",
   "mimetype": "text/x-python",
   "name": "python",
   "nbconvert_exporter": "python",
   "pygments_lexer": "ipython3",
   "version": "3.8.5"
  }
 },
 "nbformat": 4,
 "nbformat_minor": 4
}
