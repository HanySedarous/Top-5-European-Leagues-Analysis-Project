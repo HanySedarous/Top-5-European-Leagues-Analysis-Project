{
 "cells": [
  {
   "cell_type": "code",
   "execution_count": 178,
   "metadata": {},
   "outputs": [],
   "source": [
    "# Dependencies\n",
    "import csv\n",
    "import matplotlib.pyplot as plt\n",
    "import pandas as pd\n",
    "import os, glob\n",
    "import numpy as np"
   ]
  },
  {
   "cell_type": "code",
   "execution_count": 179,
   "metadata": {},
   "outputs": [],
   "source": [
    "#path = \"C:/Users/hanys/Documents/GitHub/Top 5 European Leagues Analysis Project/Top-5-European-Leagues-Analysis-Project/Files/Teams Stats\""
   ]
  },
  {
   "cell_type": "markdown",
   "metadata": {},
   "source": [
    "Merge all files into one team CVS file"
   ]
  },
  {
   "cell_type": "code",
   "execution_count": 180,
   "metadata": {},
   "outputs": [],
   "source": [
    "os.chdir(\".\")\n",
    "all_filenames = [i for i in glob.glob('*.{}'.format('csv'))]\n",
    "combinedf = pd.concat([pd.read_csv(f) for f in all_filenames ],sort=False)\n",
    "combinedf.to_csv( \"Teams.csv\", index=False, encoding='utf-8')"
   ]
  },
  {
   "cell_type": "code",
   "execution_count": 181,
   "metadata": {},
   "outputs": [],
   "source": [
    "teams = pd.read_csv('Teams.csv')"
   ]
  },
  {
   "cell_type": "code",
   "execution_count": 307,
   "metadata": {},
   "outputs": [],
   "source": [
    "attendance = teams.copy()\n",
    "champs = teams.copy()\n",
    "Winners = teams.copy()\n",
    "aggressive = teams.copy()\n",
    "attendance.head()\n",
    "squad_at = teams.copy()"
   ]
  },
  {
   "cell_type": "code",
   "execution_count": 308,
   "metadata": {},
   "outputs": [
    {
     "data": {
      "text/html": [
       "<div>\n",
       "<style scoped>\n",
       "    .dataframe tbody tr th:only-of-type {\n",
       "        vertical-align: middle;\n",
       "    }\n",
       "\n",
       "    .dataframe tbody tr th {\n",
       "        vertical-align: top;\n",
       "    }\n",
       "\n",
       "    .dataframe thead th {\n",
       "        text-align: right;\n",
       "    }\n",
       "</style>\n",
       "<table border=\"1\" class=\"dataframe\">\n",
       "  <thead>\n",
       "    <tr style=\"text-align: right;\">\n",
       "      <th></th>\n",
       "      <th>MP</th>\n",
       "      <th>GF</th>\n",
       "      <th>GA</th>\n",
       "      <th>Pts</th>\n",
       "    </tr>\n",
       "    <tr>\n",
       "      <th>League</th>\n",
       "      <th></th>\n",
       "      <th></th>\n",
       "      <th></th>\n",
       "      <th></th>\n",
       "    </tr>\n",
       "  </thead>\n",
       "  <tbody>\n",
       "    <tr>\n",
       "      <th>Serie A</th>\n",
       "      <td>2280</td>\n",
       "      <td>3190</td>\n",
       "      <td>3190</td>\n",
       "      <td>3141</td>\n",
       "    </tr>\n",
       "    <tr>\n",
       "      <th>EPL</th>\n",
       "      <td>2280</td>\n",
       "      <td>3124</td>\n",
       "      <td>3124</td>\n",
       "      <td>3158</td>\n",
       "    </tr>\n",
       "    <tr>\n",
       "      <th>La Liga</th>\n",
       "      <td>2280</td>\n",
       "      <td>2949</td>\n",
       "      <td>2949</td>\n",
       "      <td>3119</td>\n",
       "    </tr>\n",
       "    <tr>\n",
       "      <th>Bundesliga</th>\n",
       "      <td>1836</td>\n",
       "      <td>2810</td>\n",
       "      <td>2810</td>\n",
       "      <td>2530</td>\n",
       "    </tr>\n",
       "    <tr>\n",
       "      <th>League 1</th>\n",
       "      <td>2078</td>\n",
       "      <td>2709</td>\n",
       "      <td>2709</td>\n",
       "      <td>2841</td>\n",
       "    </tr>\n",
       "  </tbody>\n",
       "</table>\n",
       "</div>"
      ],
      "text/plain": [
       "              MP    GF    GA   Pts\n",
       "League                            \n",
       "Serie A     2280  3190  3190  3141\n",
       "EPL         2280  3124  3124  3158\n",
       "La Liga     2280  2949  2949  3119\n",
       "Bundesliga  1836  2810  2810  2530\n",
       "League 1    2078  2709  2709  2841"
      ]
     },
     "execution_count": 308,
     "metadata": {},
     "output_type": "execute_result"
    }
   ],
   "source": [
    "attendance = attendance.groupby('League').sum()\n",
    "attendance.sort_values(by=['GF'], inplace=True, ascending=False)\n",
    "attendance = attendance.head()\n",
    "attendance.drop(['D', 'L', 'GDiff', 'Rk', 'W'], axis=1, inplace=True)\n",
    "attendance.head(10)"
   ]
  },
  {
   "cell_type": "code",
   "execution_count": 339,
   "metadata": {},
   "outputs": [
    {
     "name": "stdout",
     "output_type": "stream",
     "text": [
      "object\n"
     ]
    }
   ],
   "source": [
    "teams.head()\n",
    "dataTypeObj = teams.dtypes['Attendance']\n",
    "print(dataTypeObj)"
   ]
  },
  {
   "cell_type": "code",
   "execution_count": 310,
   "metadata": {},
   "outputs": [],
   "source": [
    "teams_stats = teams.copy()\n",
    "Season = teams.copy()\n",
    "attend = teams.Attendance.sum()"
   ]
  },
  {
   "cell_type": "code",
   "execution_count": 311,
   "metadata": {},
   "outputs": [
    {
     "name": "stderr",
     "output_type": "stream",
     "text": [
      "C:\\Users\\hanys\\anaconda3\\envs\\PythonData\\lib\\site-packages\\pandas\\core\\frame.py:4160: SettingWithCopyWarning: \n",
      "A value is trying to be set on a copy of a slice from a DataFrame\n",
      "\n",
      "See the caveats in the documentation: https://pandas.pydata.org/pandas-docs/stable/user_guide/indexing.html#returning-a-view-versus-a-copy\n",
      "  return super().drop(\n"
     ]
    },
    {
     "data": {
      "text/html": [
       "<div>\n",
       "<style scoped>\n",
       "    .dataframe tbody tr th:only-of-type {\n",
       "        vertical-align: middle;\n",
       "    }\n",
       "\n",
       "    .dataframe tbody tr th {\n",
       "        vertical-align: top;\n",
       "    }\n",
       "\n",
       "    .dataframe thead th {\n",
       "        text-align: right;\n",
       "    }\n",
       "</style>\n",
       "<table border=\"1\" class=\"dataframe\">\n",
       "  <thead>\n",
       "    <tr style=\"text-align: right;\">\n",
       "      <th></th>\n",
       "      <th>MP</th>\n",
       "      <th>GF</th>\n",
       "    </tr>\n",
       "    <tr>\n",
       "      <th>League</th>\n",
       "      <th></th>\n",
       "      <th></th>\n",
       "    </tr>\n",
       "  </thead>\n",
       "  <tbody>\n",
       "    <tr>\n",
       "      <th>Serie A</th>\n",
       "      <td>2280</td>\n",
       "      <td>3190</td>\n",
       "    </tr>\n",
       "    <tr>\n",
       "      <th>EPL</th>\n",
       "      <td>2280</td>\n",
       "      <td>3124</td>\n",
       "    </tr>\n",
       "    <tr>\n",
       "      <th>La Liga</th>\n",
       "      <td>2280</td>\n",
       "      <td>2949</td>\n",
       "    </tr>\n",
       "    <tr>\n",
       "      <th>Bundesliga</th>\n",
       "      <td>1836</td>\n",
       "      <td>2810</td>\n",
       "    </tr>\n",
       "    <tr>\n",
       "      <th>League 1</th>\n",
       "      <td>2078</td>\n",
       "      <td>2709</td>\n",
       "    </tr>\n",
       "  </tbody>\n",
       "</table>\n",
       "</div>"
      ],
      "text/plain": [
       "              MP    GF\n",
       "League                \n",
       "Serie A     2280  3190\n",
       "EPL         2280  3124\n",
       "La Liga     2280  2949\n",
       "Bundesliga  1836  2810\n",
       "League 1    2078  2709"
      ]
     },
     "execution_count": 311,
     "metadata": {},
     "output_type": "execute_result"
    }
   ],
   "source": [
    "#new_data = teams_stats.groupby('League')\n",
    "#new_data.head()\n",
    "new_data = teams_stats.groupby('League').sum()\n",
    "new_data.sort_values(by=['GF'], inplace=True, ascending=False)\n",
    "new_teams_data = new_data.head(5)\n",
    "new_teams_data.drop(['D', 'L', 'GDiff', 'Rk', 'W', 'GA', 'Pts'], axis=1, inplace=True)\n",
    "new_teams_data.head()"
   ]
  },
  {
   "cell_type": "markdown",
   "metadata": {},
   "source": [
    "Italian League is the best European league from 2017 till 2020 based on number of Played Games and number of Scored Goals"
   ]
  },
  {
   "cell_type": "code",
   "execution_count": 312,
   "metadata": {
    "scrolled": true
   },
   "outputs": [
    {
     "data": {
      "image/png": "[encoded data removed]",
      "text/plain": [
       "<Figure size 1440x360 with 1 Axes>"
      ]
     },
     "metadata": {
      "needs_background": "light"
     },
     "output_type": "display_data"
    }
   ],
   "source": [
    "new_teams_data.plot.bar()\n",
    "plt.xlabel(\"Leagues\", fontsize=25)\n",
    "plt.ylabel(\"Matches Played\", fontsize=25)\n",
    "plt.title(\"Best European League (2017 till 2020)\", fontsize=25)\n",
    "plt.rcParams['figure.figsize'] = (25,5);\n",
    "plt.show()"
   ]
  },
  {
   "cell_type": "markdown",
   "metadata": {},
   "source": [
    "Manchester City is the best European team from 2017 till 2020 based on number of Played Games, \n",
    "collected points and number of Scored Goals"
   ]
  },
  {
   "cell_type": "code",
   "execution_count": 313,
   "metadata": {},
   "outputs": [
    {
     "name": "stderr",
     "output_type": "stream",
     "text": [
      "C:\\Users\\hanys\\anaconda3\\envs\\PythonData\\lib\\site-packages\\pandas\\core\\frame.py:4160: SettingWithCopyWarning: \n",
      "A value is trying to be set on a copy of a slice from a DataFrame\n",
      "\n",
      "See the caveats in the documentation: https://pandas.pydata.org/pandas-docs/stable/user_guide/indexing.html#returning-a-view-versus-a-copy\n",
      "  return super().drop(\n"
     ]
    },
    {
     "data": {
      "text/html": [
       "<div>\n",
       "<style scoped>\n",
       "    .dataframe tbody tr th:only-of-type {\n",
       "        vertical-align: middle;\n",
       "    }\n",
       "\n",
       "    .dataframe tbody tr th {\n",
       "        vertical-align: top;\n",
       "    }\n",
       "\n",
       "    .dataframe thead th {\n",
       "        text-align: right;\n",
       "    }\n",
       "</style>\n",
       "<table border=\"1\" class=\"dataframe\">\n",
       "  <thead>\n",
       "    <tr style=\"text-align: right;\">\n",
       "      <th></th>\n",
       "      <th>MP</th>\n",
       "      <th>GF</th>\n",
       "      <th>GA</th>\n",
       "      <th>Pts</th>\n",
       "    </tr>\n",
       "    <tr>\n",
       "      <th>Squad</th>\n",
       "      <th></th>\n",
       "      <th></th>\n",
       "      <th></th>\n",
       "      <th></th>\n",
       "    </tr>\n",
       "  </thead>\n",
       "  <tbody>\n",
       "    <tr>\n",
       "      <th>Manchester City</th>\n",
       "      <td>114</td>\n",
       "      <td>303</td>\n",
       "      <td>85</td>\n",
       "      <td>279</td>\n",
       "    </tr>\n",
       "    <tr>\n",
       "      <th>Liverpool</th>\n",
       "      <td>114</td>\n",
       "      <td>258</td>\n",
       "      <td>93</td>\n",
       "      <td>271</td>\n",
       "    </tr>\n",
       "    <tr>\n",
       "      <th>Juventus</th>\n",
       "      <td>114</td>\n",
       "      <td>232</td>\n",
       "      <td>97</td>\n",
       "      <td>268</td>\n",
       "    </tr>\n",
       "    <tr>\n",
       "      <th>Barcelona</th>\n",
       "      <td>114</td>\n",
       "      <td>275</td>\n",
       "      <td>103</td>\n",
       "      <td>262</td>\n",
       "    </tr>\n",
       "    <tr>\n",
       "      <th>Paris S-G</th>\n",
       "      <td>103</td>\n",
       "      <td>288</td>\n",
       "      <td>88</td>\n",
       "      <td>252</td>\n",
       "    </tr>\n",
       "  </tbody>\n",
       "</table>\n",
       "</div>"
      ],
      "text/plain": [
       "                  MP   GF   GA  Pts\n",
       "Squad                              \n",
       "Manchester City  114  303   85  279\n",
       "Liverpool        114  258   93  271\n",
       "Juventus         114  232   97  268\n",
       "Barcelona        114  275  103  262\n",
       "Paris S-G        103  288   88  252"
      ]
     },
     "execution_count": 313,
     "metadata": {},
     "output_type": "execute_result"
    }
   ],
   "source": [
    "Squad = teams_stats.groupby('Squad').sum()\n",
    "Squad.sort_values(by=['Pts'], inplace=True, ascending=False)\n",
    "best_team = Squad.head()\n",
    "best_team.drop(['D', 'L', 'GDiff', 'Rk', 'W'], axis=1, inplace=True)\n",
    "best_team.head()"
   ]
  },
  {
   "cell_type": "code",
   "execution_count": 314,
   "metadata": {},
   "outputs": [
    {
     "data": {
      "image/png": "[encoded data removed]",
      "text/plain": [
       "<Figure size 1800x360 with 1 Axes>"
      ]
     },
     "metadata": {
      "needs_background": "light"
     },
     "output_type": "display_data"
    }
   ],
   "source": [
    "best_team.plot.bar()\n",
    "plt.xlabel('Teams', fontsize=25)\n",
    "plt.ylabel(\"Facts\", fontsize=25)\n",
    "plt.title(\"Best European Team (2017 till 2020)\", fontsize=25)\n",
    "plt.rcParams['figure.figsize'] = (20,5);\n",
    "plt.show()"
   ]
  },
  {
   "cell_type": "code",
   "execution_count": null,
   "metadata": {},
   "outputs": [],
   "source": []
  },
  {
   "cell_type": "code",
   "execution_count": 315,
   "metadata": {},
   "outputs": [
    {
     "ename": "NameError",
     "evalue": "name 'team_avg_age' is not defined",
     "output_type": "error",
     "traceback": [
      "\u001b[1;31m---------------------------------------------------------------------------\u001b[0m",
      "\u001b[1;31mNameError\u001b[0m                                 Traceback (most recent call last)",
      "\u001b[1;32m<ipython-input-315-17236356039c>\u001b[0m in \u001b[0;36m<module>\u001b[1;34m\u001b[0m\n\u001b[1;32m----> 1\u001b[1;33m \u001b[0mteam_avg_age\u001b[0m\u001b[1;33m.\u001b[0m\u001b[0mplot\u001b[0m\u001b[1;33m.\u001b[0m\u001b[0mscatter\u001b[0m\u001b[1;33m(\u001b[0m\u001b[0mx\u001b[0m\u001b[1;33m=\u001b[0m\u001b[1;34m'League'\u001b[0m\u001b[1;33m,\u001b[0m \u001b[0my\u001b[0m\u001b[1;33m=\u001b[0m\u001b[1;34m'Attendance'\u001b[0m\u001b[1;33m,\u001b[0m \u001b[0mfigsize\u001b[0m\u001b[1;33m=\u001b[0m\u001b[1;33m(\u001b[0m\u001b[1;36m8\u001b[0m\u001b[1;33m,\u001b[0m\u001b[1;36m6\u001b[0m\u001b[1;33m)\u001b[0m\u001b[1;33m)\u001b[0m\u001b[1;33m\u001b[0m\u001b[1;33m\u001b[0m\u001b[0m\n\u001b[0m\u001b[0;32m      2\u001b[0m \u001b[0mplt\u001b[0m\u001b[1;33m.\u001b[0m\u001b[0mshow\u001b[0m\u001b[1;33m(\u001b[0m\u001b[1;33m)\u001b[0m\u001b[1;33m\u001b[0m\u001b[1;33m\u001b[0m\u001b[0m\n",
      "\u001b[1;31mNameError\u001b[0m: name 'team_avg_age' is not defined"
     ]
    }
   ],
   "source": [
    "team_avg_age.plot.scatter(x='League', y='Attendance', figsize=(8,6))\n",
    "plt.show()"
   ]
  },
  {
   "cell_type": "code",
   "execution_count": 316,
   "metadata": {},
   "outputs": [],
   "source": [
    "#attendance['total'] = attendance['Attendance'].sum()     \n"
   ]
  },
  {
   "cell_type": "code",
   "execution_count": null,
   "metadata": {},
   "outputs": [],
   "source": []
  },
  {
   "cell_type": "code",
   "execution_count": 317,
   "metadata": {},
   "outputs": [
    {
     "data": {
      "text/html": [
       "<div>\n",
       "<style scoped>\n",
       "    .dataframe tbody tr th:only-of-type {\n",
       "        vertical-align: middle;\n",
       "    }\n",
       "\n",
       "    .dataframe tbody tr th {\n",
       "        vertical-align: top;\n",
       "    }\n",
       "\n",
       "    .dataframe thead th {\n",
       "        text-align: right;\n",
       "    }\n",
       "</style>\n",
       "<table border=\"1\" class=\"dataframe\">\n",
       "  <thead>\n",
       "    <tr style=\"text-align: right;\">\n",
       "      <th></th>\n",
       "      <th></th>\n",
       "      <th></th>\n",
       "      <th></th>\n",
       "      <th>Rk</th>\n",
       "      <th>MP</th>\n",
       "      <th>W</th>\n",
       "      <th>D</th>\n",
       "      <th>L</th>\n",
       "      <th>GF</th>\n",
       "      <th>GA</th>\n",
       "      <th>GDiff</th>\n",
       "      <th>Pts</th>\n",
       "    </tr>\n",
       "    <tr>\n",
       "      <th>Season</th>\n",
       "      <th>League</th>\n",
       "      <th>Squad</th>\n",
       "      <th>Winner</th>\n",
       "      <th></th>\n",
       "      <th></th>\n",
       "      <th></th>\n",
       "      <th></th>\n",
       "      <th></th>\n",
       "      <th></th>\n",
       "      <th></th>\n",
       "      <th></th>\n",
       "      <th></th>\n",
       "    </tr>\n",
       "  </thead>\n",
       "  <tbody>\n",
       "    <tr>\n",
       "      <th>2017-2018</th>\n",
       "      <th>EPL</th>\n",
       "      <th>Manchester City</th>\n",
       "      <th>Champion</th>\n",
       "      <td>1</td>\n",
       "      <td>38</td>\n",
       "      <td>32</td>\n",
       "      <td>4</td>\n",
       "      <td>2</td>\n",
       "      <td>106</td>\n",
       "      <td>27</td>\n",
       "      <td>79</td>\n",
       "      <td>100</td>\n",
       "    </tr>\n",
       "    <tr>\n",
       "      <th>2019-2020</th>\n",
       "      <th>EPL</th>\n",
       "      <th>Liverpool</th>\n",
       "      <th>Champion</th>\n",
       "      <td>1</td>\n",
       "      <td>38</td>\n",
       "      <td>32</td>\n",
       "      <td>3</td>\n",
       "      <td>3</td>\n",
       "      <td>85</td>\n",
       "      <td>33</td>\n",
       "      <td>52</td>\n",
       "      <td>99</td>\n",
       "    </tr>\n",
       "    <tr>\n",
       "      <th rowspan=\"2\" valign=\"top\">2018-2019</th>\n",
       "      <th rowspan=\"2\" valign=\"top\">EPL</th>\n",
       "      <th>Manchester City</th>\n",
       "      <th>Champion</th>\n",
       "      <td>1</td>\n",
       "      <td>38</td>\n",
       "      <td>32</td>\n",
       "      <td>2</td>\n",
       "      <td>4</td>\n",
       "      <td>95</td>\n",
       "      <td>23</td>\n",
       "      <td>72</td>\n",
       "      <td>98</td>\n",
       "    </tr>\n",
       "    <tr>\n",
       "      <th>Liverpool</th>\n",
       "      <th>NaN</th>\n",
       "      <td>2</td>\n",
       "      <td>38</td>\n",
       "      <td>30</td>\n",
       "      <td>7</td>\n",
       "      <td>1</td>\n",
       "      <td>89</td>\n",
       "      <td>22</td>\n",
       "      <td>67</td>\n",
       "      <td>97</td>\n",
       "    </tr>\n",
       "    <tr>\n",
       "      <th>2017-2018</th>\n",
       "      <th>Serie A</th>\n",
       "      <th>Juventus</th>\n",
       "      <th>Champion</th>\n",
       "      <td>1</td>\n",
       "      <td>38</td>\n",
       "      <td>30</td>\n",
       "      <td>5</td>\n",
       "      <td>3</td>\n",
       "      <td>86</td>\n",
       "      <td>24</td>\n",
       "      <td>62</td>\n",
       "      <td>95</td>\n",
       "    </tr>\n",
       "  </tbody>\n",
       "</table>\n",
       "</div>"
      ],
      "text/plain": [
       "                                            Rk  MP   W  D  L   GF  GA  GDiff  \\\n",
       "Season    League  Squad           Winner                                       \n",
       "2017-2018 EPL     Manchester City Champion   1  38  32  4  2  106  27     79   \n",
       "2019-2020 EPL     Liverpool       Champion   1  38  32  3  3   85  33     52   \n",
       "2018-2019 EPL     Manchester City Champion   1  38  32  2  4   95  23     72   \n",
       "                  Liverpool       NaN        2  38  30  7  1   89  22     67   \n",
       "2017-2018 Serie A Juventus        Champion   1  38  30  5  3   86  24     62   \n",
       "\n",
       "                                            Pts  \n",
       "Season    League  Squad           Winner         \n",
       "2017-2018 EPL     Manchester City Champion  100  \n",
       "2019-2020 EPL     Liverpool       Champion   99  \n",
       "2018-2019 EPL     Manchester City Champion   98  \n",
       "                  Liverpool       NaN        97  \n",
       "2017-2018 Serie A Juventus        Champion   95  "
      ]
     },
     "execution_count": 317,
     "metadata": {},
     "output_type": "execute_result"
    }
   ],
   "source": [
    "#Champions = champs.set_index(['Season', 'League', 'Squad', 'Winner']).select_dtypes('number')\n",
    "Champions.head()"
   ]
  },
  {
   "cell_type": "code",
   "execution_count": 318,
   "metadata": {},
   "outputs": [],
   "source": [
    "Champions.sort_values(by=['Pts'], inplace=True, ascending=False)"
   ]
  },
  {
   "cell_type": "code",
   "execution_count": 319,
   "metadata": {},
   "outputs": [],
   "source": [
    "Winners.head(25)\n",
    "condition = Winners[\"Winner\"] == 'Champion'\n",
    "\n",
    "League_Champions = Winners[condition]"
   ]
  },
  {
   "cell_type": "code",
   "execution_count": 320,
   "metadata": {},
   "outputs": [
    {
     "data": {
      "text/html": [
       "<div>\n",
       "<style scoped>\n",
       "    .dataframe tbody tr th:only-of-type {\n",
       "        vertical-align: middle;\n",
       "    }\n",
       "\n",
       "    .dataframe tbody tr th {\n",
       "        vertical-align: top;\n",
       "    }\n",
       "\n",
       "    .dataframe thead th {\n",
       "        text-align: right;\n",
       "    }\n",
       "</style>\n",
       "<table border=\"1\" class=\"dataframe\">\n",
       "  <thead>\n",
       "    <tr style=\"text-align: right;\">\n",
       "      <th></th>\n",
       "      <th></th>\n",
       "      <th>Pts</th>\n",
       "    </tr>\n",
       "    <tr>\n",
       "      <th>Season</th>\n",
       "      <th>Squad</th>\n",
       "      <th></th>\n",
       "    </tr>\n",
       "  </thead>\n",
       "  <tbody>\n",
       "    <tr>\n",
       "      <th rowspan=\"5\" valign=\"top\">2017-2018</th>\n",
       "      <th>Bayern Munich</th>\n",
       "      <td>84</td>\n",
       "    </tr>\n",
       "    <tr>\n",
       "      <th>Barcelona</th>\n",
       "      <td>93</td>\n",
       "    </tr>\n",
       "    <tr>\n",
       "      <th>Paris S-G</th>\n",
       "      <td>93</td>\n",
       "    </tr>\n",
       "    <tr>\n",
       "      <th>Manchester City</th>\n",
       "      <td>100</td>\n",
       "    </tr>\n",
       "    <tr>\n",
       "      <th>Juventus</th>\n",
       "      <td>95</td>\n",
       "    </tr>\n",
       "    <tr>\n",
       "      <th rowspan=\"5\" valign=\"top\">2018-2019</th>\n",
       "      <th>Bayern Munich</th>\n",
       "      <td>78</td>\n",
       "    </tr>\n",
       "    <tr>\n",
       "      <th>Barcelona</th>\n",
       "      <td>87</td>\n",
       "    </tr>\n",
       "    <tr>\n",
       "      <th>Paris S-G</th>\n",
       "      <td>91</td>\n",
       "    </tr>\n",
       "    <tr>\n",
       "      <th>Manchester City</th>\n",
       "      <td>98</td>\n",
       "    </tr>\n",
       "    <tr>\n",
       "      <th>Juventus</th>\n",
       "      <td>90</td>\n",
       "    </tr>\n",
       "    <tr>\n",
       "      <th rowspan=\"5\" valign=\"top\">2019-2020</th>\n",
       "      <th>Bayern Munich</th>\n",
       "      <td>82</td>\n",
       "    </tr>\n",
       "    <tr>\n",
       "      <th>Real Madrid</th>\n",
       "      <td>87</td>\n",
       "    </tr>\n",
       "    <tr>\n",
       "      <th>Paris S-G</th>\n",
       "      <td>68</td>\n",
       "    </tr>\n",
       "    <tr>\n",
       "      <th>Liverpool</th>\n",
       "      <td>99</td>\n",
       "    </tr>\n",
       "    <tr>\n",
       "      <th>Juventus</th>\n",
       "      <td>83</td>\n",
       "    </tr>\n",
       "  </tbody>\n",
       "</table>\n",
       "</div>"
      ],
      "text/plain": [
       "                           Pts\n",
       "Season    Squad               \n",
       "2017-2018 Bayern Munich     84\n",
       "          Barcelona         93\n",
       "          Paris S-G         93\n",
       "          Manchester City  100\n",
       "          Juventus          95\n",
       "2018-2019 Bayern Munich     78\n",
       "          Barcelona         87\n",
       "          Paris S-G         91\n",
       "          Manchester City   98\n",
       "          Juventus          90\n",
       "2019-2020 Bayern Munich     82\n",
       "          Real Madrid       87\n",
       "          Paris S-G         68\n",
       "          Liverpool         99\n",
       "          Juventus          83"
      ]
     },
     "execution_count": 320,
     "metadata": {},
     "output_type": "execute_result"
    }
   ],
   "source": [
    "League_Champions = League_Champions.set_index(['Season', 'Squad']).select_dtypes('number')\n",
    "League_Champions.drop(['Rk', 'MP', 'W', 'D', 'L', 'GF', 'GA', 'GDiff'], axis=1, inplace=True)\n",
    "League_Champions.head(15)"
   ]
  },
  {
   "cell_type": "code",
   "execution_count": 321,
   "metadata": {},
   "outputs": [
    {
     "name": "stderr",
     "output_type": "stream",
     "text": [
      "C:\\Users\\hanys\\anaconda3\\envs\\PythonData\\lib\\site-packages\\pandas\\plotting\\_matplotlib\\core.py:1235: UserWarning: FixedFormatter should only be used together with FixedLocator\n",
      "  ax.set_xticklabels(xticklabels)\n"
     ]
    },
    {
     "data": {
      "text/plain": [
       "Text(0.5, 1.0, 'European League Champions Points Achieved (2017-2020)')"
      ]
     },
     "execution_count": 321,
     "metadata": {},
     "output_type": "execute_result"
    },
    {
     "data": {
      "image/png": "[encoded data removed]",
      "text/plain": [
       "<Figure size 1440x360 with 1 Axes>"
      ]
     },
     "metadata": {
      "needs_background": "light"
     },
     "output_type": "display_data"
    }
   ],
   "source": [
    "League_Champions.plot.line()\n",
    "plt.xlabel(\"Squad\")\n",
    "plt.ylabel(\"Pts\")\n",
    "plt.title(\"European League Champions Points Achieved (2017-2020)\")"
   ]
  },
  {
   "cell_type": "code",
   "execution_count": null,
   "metadata": {},
   "outputs": [],
   "source": []
  }
 ],
 "metadata": {
  "kernelspec": {
   "display_name": "Python 3",
   "language": "python",
   "name": "python3"
  },
  "language_info": {
   "codemirror_mode": {
    "name": "ipython",
    "version": 3
   },
   "file_extension": ".py",
   "mimetype": "text/x-python",
   "name": "python",
   "nbconvert_exporter": "python",
   "pygments_lexer": "ipython3",
   "version": "3.8.5"
  }
 },
 "nbformat": 4,
 "nbformat_minor": 4
}
